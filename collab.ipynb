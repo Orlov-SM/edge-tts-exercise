{
  "nbformat": 4,
  "nbformat_minor": 0,
  "metadata": {
    "colab": {
      "provenance": []
    },
    "kernelspec": {
      "name": "python3",
      "display_name": "Python 3"
    },
    "language_info": {
      "name": "python"
    }
  },
  "cells": [
    {
      "cell_type": "code",
      "source": [
        "import os\n",
        "import asyncio\n",
        "import edge_tts\n",
        "import nest_asyncio\n",
        "nest_asyncio.apply()\n",
        "\n",
        "# Папка с главами\n",
        "chapters_dir = \"chapters_txt\"\n",
        "audio_dir = \"chapters_mp3\"\n",
        "vtt_dir = \"chapters_vtt\"\n",
        "\n",
        "os.makedirs(audio_dir, exist_ok=True)\n",
        "os.makedirs(vtt_dir, exist_ok=True)\n",
        "\n",
        "# Голос по умолчанию (можно заменить на любой из SUPPORTED_VOICES)\n",
        "VOICE = \"ru-RU-SvetlanaNeural\"\n",
        "RATE = \"+0%\"\n",
        "VOLUME = \"+0%\"\n",
        "\n",
        "# Обработка одного файла\n",
        "async def convert_one(txt_path, mp3_path, vtt_path):\n",
        "    with open(txt_path, \"r\", encoding=\"utf-8\") as f:\n",
        "        text = f.read()\n",
        "\n",
        "    communicate = edge_tts.Communicate(text=text, voice=VOICE, rate=RATE, volume=VOLUME)\n",
        "    submaker = edge_tts.SubMaker()\n",
        "    words = []\n",
        "    with open(mp3_path, \"wb\") as audio_file:\n",
        "        async for chunk in communicate.stream():\n",
        "            if chunk[\"type\"] == \"audio\":\n",
        "                audio_file.write(chunk[\"data\"])\n",
        "            elif chunk[\"type\"] == \"WordBoundary\":\n",
        "                words.append(chunk[\"text\"])\n",
        "\n",
        "    # Записываем субтитры без времени — просто слова через пробел или построчно\n",
        "    with open(vtt_path, \"w\", encoding=\"utf-8\") as f:\n",
        "        # Можно сохранить просто все слова через пробел:\n",
        "        f.write(\" \".join(words))\n",
        "\n",
        "# Обработка всех файлов\n",
        "async def batch_convert():\n",
        "    files = sorted(f for f in os.listdir(chapters_dir) if f.endswith(\".txt\"))\n",
        "    for file in files:\n",
        "        name = os.path.splitext(file)[0]  # например, Глава_01\n",
        "        txt_path = os.path.join(chapters_dir, file)\n",
        "        mp3_path = os.path.join(audio_dir, name + \".mp3\")\n",
        "        vtt_path = os.path.join(vtt_dir, name + \".vtt\")\n",
        "        print(f\"🎙️ {file} → 🎧 {mp3_path}, 📝 {vtt_path}\")\n",
        "        await convert_one(txt_path, mp3_path, vtt_path)\n",
        "# Запускаем\n",
        "await batch_convert()\n",
        "\n",
        "print(\"✅ Все главы озвучены и сохранены в\", output_dir)"
      ],
      "metadata": {
        "id": "eQ3wrWgxiPfR",
        "outputId": "2ef81b89-48ae-43d2-c728-6c03f630e182",
        "colab": {
          "base_uri": "https://localhost:8080/"
        }
      },
      "execution_count": null,
      "outputs": [
        {
          "output_type": "stream",
          "name": "stdout",
          "text": [
            "🎙️ 01.txt → 🎧 chapters_mp3/01.mp3, 📝 chapters_vtt/01.vtt\n",
            "🎙️ 02.txt → 🎧 chapters_mp3/02.mp3, 📝 chapters_vtt/02.vtt\n",
            "🎙️ 03.txt → 🎧 chapters_mp3/03.mp3, 📝 chapters_vtt/03.vtt\n",
            "🎙️ 04.txt → 🎧 chapters_mp3/04.mp3, 📝 chapters_vtt/04.vtt\n",
            "🎙️ 05.txt → 🎧 chapters_mp3/05.mp3, 📝 chapters_vtt/05.vtt\n"
          ]
        }
      ]
    },
    {
      "cell_type": "code",
      "source": [
        "import os\n",
        "import re\n",
        "import shutil\n",
        "from docx import Document\n",
        "\n",
        "# Путь к docx-файлу\n",
        "input_file = \"Fantom.docx\"  # замените на путь к вашей книге\n",
        "output_dir = \"chapters_txt\"\n",
        "\n",
        "# Очистить папку, если она уже существует\n",
        "if os.path.exists(output_dir):\n",
        "    shutil.rmtree(output_dir)\n",
        "os.makedirs(output_dir, exist_ok=True)\n",
        "\n",
        "# Загружаем документ\n",
        "doc = Document(input_file)\n",
        "\n",
        "chapters = []\n",
        "current_chapter = []\n",
        "chapter_num = 0\n",
        "\n",
        "# Шаблон для определения начала главы\n",
        "chapter_pattern = re.compile(r\"^Глава\\s+\\d+\", re.IGNORECASE)\n",
        "\n",
        "# Разбиваем по главам\n",
        "for para in doc.paragraphs:\n",
        "    text = para.text.strip()\n",
        "    if not text:\n",
        "        continue\n",
        "\n",
        "    if chapter_pattern.match(text):\n",
        "        if current_chapter:\n",
        "            chapters.append(current_chapter)\n",
        "            current_chapter = []\n",
        "        chapter_num += 1\n",
        "    current_chapter.append(text)\n",
        "\n",
        "if current_chapter:\n",
        "    chapters.append(current_chapter)\n",
        "\n",
        "# Количество цифр в номере файла, например: 01, 02, ..., 10, 11 и т.д.\n",
        "digits = len(str(len(chapters)))\n",
        "\n",
        "# Сохраняем главы\n",
        "for i, chapter in enumerate(chapters, 1):\n",
        "    filename = os.path.join(output_dir, f\"{i:0{digits}}.txt\")\n",
        "    with open(filename, \"w\", encoding=\"utf-8\") as f:\n",
        "        f.write(\"\\n\\n\".join(chapter))\n",
        "\n",
        "print(f\"✅ Разделено на {len(chapters)} глав. Файлы сохранены в папке '{output_dir}'\")"
      ],
      "metadata": {
        "id": "Rwq3WGhSfExl",
        "outputId": "0c702822-3921-454d-8b74-bd9ea73ba98a",
        "colab": {
          "base_uri": "https://localhost:8080/"
        }
      },
      "execution_count": 11,
      "outputs": [
        {
          "output_type": "stream",
          "name": "stdout",
          "text": [
            "✅ Разделено на 25 глав. Файлы сохранены в папке 'chapters_txt'\n"
          ]
        }
      ]
    },
    {
      "cell_type": "code",
      "source": [
        "pip install python-docx"
      ],
      "metadata": {
        "id": "c3x8StFje-A-",
        "outputId": "9e7db5d8-221a-4814-8283-83dbfd052172",
        "colab": {
          "base_uri": "https://localhost:8080/"
        }
      },
      "execution_count": 6,
      "outputs": [
        {
          "output_type": "stream",
          "name": "stdout",
          "text": [
            "Collecting python-docx\n",
            "  Downloading python_docx-1.2.0-py3-none-any.whl.metadata (2.0 kB)\n",
            "Requirement already satisfied: lxml>=3.1.0 in /usr/local/lib/python3.11/dist-packages (from python-docx) (5.4.0)\n",
            "Requirement already satisfied: typing_extensions>=4.9.0 in /usr/local/lib/python3.11/dist-packages (from python-docx) (4.14.1)\n",
            "Downloading python_docx-1.2.0-py3-none-any.whl (252 kB)\n",
            "\u001b[?25l   \u001b[90m━━━━━━━━━━━━━━━━━━━━━━━━━━━━━━━━━━━━━━━━\u001b[0m \u001b[32m0.0/253.0 kB\u001b[0m \u001b[31m?\u001b[0m eta \u001b[36m-:--:--\u001b[0m\r\u001b[2K   \u001b[91m━━━━━━━━━━━━━━━━━━━━━━━━━\u001b[0m\u001b[91m╸\u001b[0m\u001b[90m━━━━━━━━━━━━━━\u001b[0m \u001b[32m163.8/253.0 kB\u001b[0m \u001b[31m4.6 MB/s\u001b[0m eta \u001b[36m0:00:01\u001b[0m\r\u001b[2K   \u001b[90m━━━━━━━━━━━━━━━━━━━━━━━━━━━━━━━━━━━━━━━━\u001b[0m \u001b[32m253.0/253.0 kB\u001b[0m \u001b[31m4.5 MB/s\u001b[0m eta \u001b[36m0:00:00\u001b[0m\n",
            "\u001b[?25hInstalling collected packages: python-docx\n",
            "Successfully installed python-docx-1.2.0\n"
          ]
        }
      ]
    },
    {
      "cell_type": "code",
      "execution_count": 5,
      "metadata": {
        "id": "hsOlLAjoH8O_",
        "colab": {
          "base_uri": "https://localhost:8080/",
          "height": 646
        },
        "outputId": "f550d9c3-dca4-4b43-eb2c-729c2e0f0cd6"
      },
      "outputs": [
        {
          "output_type": "stream",
          "name": "stdout",
          "text": [
            "Colab notebook detected. This cell will run indefinitely so that you can see errors and logs. To turn off, set debug=False in launch().\n",
            "* Running on public URL: https://60bb20847775575d17.gradio.live\n",
            "\n",
            "This share link expires in 1 week. For free permanent hosting and GPU upgrades, run `gradio deploy` from the terminal in the working directory to deploy to Hugging Face Spaces (https://huggingface.co/spaces)\n"
          ]
        },
        {
          "output_type": "display_data",
          "data": {
            "text/plain": [
              "<IPython.core.display.HTML object>"
            ],
            "text/html": [
              "<div><iframe src=\"https://60bb20847775575d17.gradio.live\" width=\"100%\" height=\"500\" allow=\"autoplay; camera; microphone; clipboard-read; clipboard-write;\" frameborder=\"0\" allowfullscreen></iframe></div>"
            ]
          },
          "metadata": {}
        },
        {
          "output_type": "stream",
          "name": "stdout",
          "text": [
            "Keyboard interruption in main thread... closing server.\n",
            "Killing tunnel 127.0.0.1:7862 <> https://60bb20847775575d17.gradio.live\n"
          ]
        }
      ],
      "source": [
        "import gradio as gr\n",
        "import edge_tts\n",
        "import asyncio\n",
        "import os\n",
        "# https://speech.platform.bing.com/consumer/speech/synthesize/readaloud/voices/list?trustedclienttoken=6A5AA1D4EAFF4E9FB37E23D68491D6F4 - там голоса брать. думаю поймете. ShortName короче\n",
        "SUPPORTED_VOICES = {\n",
        "    'DmitryNeural-Руский(муж.)': 'ru-RU-DmitryNeural',\n",
        "    'SvetlanaNeural-Русский(жен.)': 'ru-RU-SvetlanaNeural',\n",
        "    'OstapNeural-Украинский(муж.)': 'uk-UA-OstapNeural',\n",
        "    'PolinaNeural-Украинский(жен.)': 'uk-UA-PolinaNeural'\n",
        "}\n",
        "\n",
        "# Смена голоса\n",
        "def changeVoice(voices):\n",
        "    example = SUPPORTED_VOICES[voices]\n",
        "    example_file = os.path.join(os.getcwd(), \"example/\"+example+\".wav\")\n",
        "    return example_file\n",
        "\n",
        "# Преобразование текста в речь\n",
        "async def textToSpeech(text, voices, rate, volume):\n",
        "    output_file = \"output.mp3\"\n",
        "    voices = SUPPORTED_VOICES[voices]\n",
        "    if (rate >= 0):\n",
        "        rates = rate = \"+\" + str(rate) + \"%\"\n",
        "    else:\n",
        "        rates = str(rate) + \"%\"\n",
        "    if (volume >= 0):\n",
        "        volumes = \"+\" + str(volume) + \"%\"\n",
        "    else:\n",
        "        volumes = str(volume) + \"%\"\n",
        "    communicate = edge_tts.Communicate(text,\n",
        "                                       voices,\n",
        "                                       rate=rates,\n",
        "                                       volume=volumes,\n",
        "                                       proxy=None)\n",
        "    await communicate.save(output_file)\n",
        "    audio_file = os.path.join(os.getcwd(), \"/content/output.mp3\")\n",
        "    if (os.path.exists(audio_file)):\n",
        "        return audio_file\n",
        "    else:\n",
        "        raise gr.Error(\"Преобразование не удалось！\")\n",
        "        return FileNotFoundError\n",
        "\n",
        "\n",
        "# Сбросить результат конвертации\n",
        "def clearSpeech():\n",
        "    output_file = os.path.join(os.getcwd(), \"output.mp3\")\n",
        "    if (os.path.exists(output_file)):\n",
        "        os.remove(output_file)\n",
        "    return None, None\n",
        "\n",
        "\n",
        "with gr.Blocks(css=\"style.css\", title=\"Преобразование текста в речь\") as demo:\n",
        "    gr.Markdown(\"\"\"\n",
        "    # Преобразование текста в речь через Microsoft Edge\n",
        "    \"\"\")\n",
        "    with gr.Row():\n",
        "        with gr.Column():\n",
        "            text = gr.TextArea(label=\"Текст\", elem_classes=\"text-area\")\n",
        "            btn = gr.Button(\"Сгенерировать\", elem_id=\"submit-btn\")\n",
        "        with gr.Column():\n",
        "            voices = gr.Dropdown(choices=[\n",
        "                \"DmitryNeural-Руский(муж.)\", \"SvetlanaNeural-Русский(жен.)\", \"OstapNeural-Украинский(муж.)\", \"PolinaNeural-Украинский(жен.)\"\n",
        "            ],\n",
        "                                 value=\"DmitryNeural-Руский(муж.)\",\n",
        "                                 label=\"Голос\",\n",
        "                                 info=\"Пожалуйста, выберите голос\",\n",
        "                                 interactive=True)\n",
        "\n",
        "            example = gr.Audio(label=\"Пример голоса\",\n",
        "                              value=\"/content/rus-edge-tts-webui/example/ru-RU-DmitryNeural.wav\",\n",
        "                              interactive=False,\n",
        "                              elem_classes=\"example\")\n",
        "\n",
        "            voices.change(fn=changeVoice,inputs=voices,outputs=example)\n",
        "            rate = gr.Slider(-100,\n",
        "                             100,\n",
        "                             step=1,\n",
        "                             value=0,\n",
        "                             label=\"Увеличение / уменьшение скорости речи\",\n",
        "                             info=\"Скорость речи быстрее / медленнее\",\n",
        "                             interactive=True)\n",
        "\n",
        "            volume = gr.Slider(-100,\n",
        "                               100,\n",
        "                               step=1,\n",
        "                               value=0,\n",
        "                               label=\"Увеличение / уменьшение громкости звука\",\n",
        "                               info=\"Увеличить / уменьшить громкость звука\",\n",
        "                               interactive=True)\n",
        "            audio = gr.Audio(label=\"Результат\",\n",
        "                             interactive=False,\n",
        "                             elem_classes=\"audio\")\n",
        "            btn.click(fn=textToSpeech,\n",
        "                      inputs=[text, voices, rate, volume],\n",
        "                      outputs=[audio])\n",
        "\n",
        "if __name__ == \"__main__\":\n",
        "    demo.launch(share=True, debug=True)\n"
      ]
    },
    {
      "cell_type": "code",
      "source": [
        "!pip install edge-tts\n",
        "!pip install gradio\n",
        "!pip install asyncio\n",
        "!git clone https://github.com/hinaichigo-fox/rus-edge-tts-webui.git"
      ],
      "metadata": {
        "id": "yV2b2V2vH896",
        "colab": {
          "base_uri": "https://localhost:8080/"
        },
        "outputId": "81b337ad-a2a3-4865-9e77-0d2387722c0e"
      },
      "execution_count": 2,
      "outputs": [
        {
          "output_type": "stream",
          "name": "stdout",
          "text": [
            "Requirement already satisfied: edge-tts in /usr/local/lib/python3.11/dist-packages (7.0.2)\n",
            "Requirement already satisfied: aiohttp<4.0.0,>=3.8.0 in /usr/local/lib/python3.11/dist-packages (from edge-tts) (3.12.14)\n",
            "Requirement already satisfied: certifi>=2023.11.17 in /usr/local/lib/python3.11/dist-packages (from edge-tts) (2025.7.14)\n",
            "Requirement already satisfied: srt<4.0.0,>=3.4.1 in /usr/local/lib/python3.11/dist-packages (from edge-tts) (3.5.3)\n",
            "Requirement already satisfied: tabulate<1.0.0,>=0.4.4 in /usr/local/lib/python3.11/dist-packages (from edge-tts) (0.9.0)\n",
            "Requirement already satisfied: typing-extensions<5.0.0,>=4.1.0 in /usr/local/lib/python3.11/dist-packages (from edge-tts) (4.14.1)\n",
            "Requirement already satisfied: aiohappyeyeballs>=2.5.0 in /usr/local/lib/python3.11/dist-packages (from aiohttp<4.0.0,>=3.8.0->edge-tts) (2.6.1)\n",
            "Requirement already satisfied: aiosignal>=1.4.0 in /usr/local/lib/python3.11/dist-packages (from aiohttp<4.0.0,>=3.8.0->edge-tts) (1.4.0)\n",
            "Requirement already satisfied: attrs>=17.3.0 in /usr/local/lib/python3.11/dist-packages (from aiohttp<4.0.0,>=3.8.0->edge-tts) (25.3.0)\n",
            "Requirement already satisfied: frozenlist>=1.1.1 in /usr/local/lib/python3.11/dist-packages (from aiohttp<4.0.0,>=3.8.0->edge-tts) (1.7.0)\n",
            "Requirement already satisfied: multidict<7.0,>=4.5 in /usr/local/lib/python3.11/dist-packages (from aiohttp<4.0.0,>=3.8.0->edge-tts) (6.6.3)\n",
            "Requirement already satisfied: propcache>=0.2.0 in /usr/local/lib/python3.11/dist-packages (from aiohttp<4.0.0,>=3.8.0->edge-tts) (0.3.2)\n",
            "Requirement already satisfied: yarl<2.0,>=1.17.0 in /usr/local/lib/python3.11/dist-packages (from aiohttp<4.0.0,>=3.8.0->edge-tts) (1.20.1)\n",
            "Requirement already satisfied: idna>=2.0 in /usr/local/lib/python3.11/dist-packages (from yarl<2.0,>=1.17.0->aiohttp<4.0.0,>=3.8.0->edge-tts) (3.10)\n",
            "Requirement already satisfied: gradio in /usr/local/lib/python3.11/dist-packages (5.38.2)\n",
            "Requirement already satisfied: aiofiles<25.0,>=22.0 in /usr/local/lib/python3.11/dist-packages (from gradio) (24.1.0)\n",
            "Requirement already satisfied: anyio<5.0,>=3.0 in /usr/local/lib/python3.11/dist-packages (from gradio) (4.9.0)\n",
            "Requirement already satisfied: brotli>=1.1.0 in /usr/local/lib/python3.11/dist-packages (from gradio) (1.1.0)\n",
            "Requirement already satisfied: fastapi<1.0,>=0.115.2 in /usr/local/lib/python3.11/dist-packages (from gradio) (0.116.1)\n",
            "Requirement already satisfied: ffmpy in /usr/local/lib/python3.11/dist-packages (from gradio) (0.6.1)\n",
            "Requirement already satisfied: gradio-client==1.11.0 in /usr/local/lib/python3.11/dist-packages (from gradio) (1.11.0)\n",
            "Requirement already satisfied: groovy~=0.1 in /usr/local/lib/python3.11/dist-packages (from gradio) (0.1.2)\n",
            "Requirement already satisfied: httpx<1.0,>=0.24.1 in /usr/local/lib/python3.11/dist-packages (from gradio) (0.28.1)\n",
            "Requirement already satisfied: huggingface-hub>=0.28.1 in /usr/local/lib/python3.11/dist-packages (from gradio) (0.34.1)\n",
            "Requirement already satisfied: jinja2<4.0 in /usr/local/lib/python3.11/dist-packages (from gradio) (3.1.6)\n",
            "Requirement already satisfied: markupsafe<4.0,>=2.0 in /usr/local/lib/python3.11/dist-packages (from gradio) (3.0.2)\n",
            "Requirement already satisfied: numpy<3.0,>=1.0 in /usr/local/lib/python3.11/dist-packages (from gradio) (2.0.2)\n",
            "Requirement already satisfied: orjson~=3.0 in /usr/local/lib/python3.11/dist-packages (from gradio) (3.11.1)\n",
            "Requirement already satisfied: packaging in /usr/local/lib/python3.11/dist-packages (from gradio) (25.0)\n",
            "Requirement already satisfied: pandas<3.0,>=1.0 in /usr/local/lib/python3.11/dist-packages (from gradio) (2.2.2)\n",
            "Requirement already satisfied: pillow<12.0,>=8.0 in /usr/local/lib/python3.11/dist-packages (from gradio) (11.3.0)\n",
            "Requirement already satisfied: pydantic<2.12,>=2.0 in /usr/local/lib/python3.11/dist-packages (from gradio) (2.11.7)\n",
            "Requirement already satisfied: pydub in /usr/local/lib/python3.11/dist-packages (from gradio) (0.25.1)\n",
            "Requirement already satisfied: python-multipart>=0.0.18 in /usr/local/lib/python3.11/dist-packages (from gradio) (0.0.20)\n",
            "Requirement already satisfied: pyyaml<7.0,>=5.0 in /usr/local/lib/python3.11/dist-packages (from gradio) (6.0.2)\n",
            "Requirement already satisfied: ruff>=0.9.3 in /usr/local/lib/python3.11/dist-packages (from gradio) (0.12.5)\n",
            "Requirement already satisfied: safehttpx<0.2.0,>=0.1.6 in /usr/local/lib/python3.11/dist-packages (from gradio) (0.1.6)\n",
            "Requirement already satisfied: semantic-version~=2.0 in /usr/local/lib/python3.11/dist-packages (from gradio) (2.10.0)\n",
            "Requirement already satisfied: starlette<1.0,>=0.40.0 in /usr/local/lib/python3.11/dist-packages (from gradio) (0.47.2)\n",
            "Requirement already satisfied: tomlkit<0.14.0,>=0.12.0 in /usr/local/lib/python3.11/dist-packages (from gradio) (0.13.3)\n",
            "Requirement already satisfied: typer<1.0,>=0.12 in /usr/local/lib/python3.11/dist-packages (from gradio) (0.16.0)\n",
            "Requirement already satisfied: typing-extensions~=4.0 in /usr/local/lib/python3.11/dist-packages (from gradio) (4.14.1)\n",
            "Requirement already satisfied: uvicorn>=0.14.0 in /usr/local/lib/python3.11/dist-packages (from gradio) (0.35.0)\n",
            "Requirement already satisfied: fsspec in /usr/local/lib/python3.11/dist-packages (from gradio-client==1.11.0->gradio) (2025.3.0)\n",
            "Requirement already satisfied: websockets<16.0,>=10.0 in /usr/local/lib/python3.11/dist-packages (from gradio-client==1.11.0->gradio) (15.0.1)\n",
            "Requirement already satisfied: idna>=2.8 in /usr/local/lib/python3.11/dist-packages (from anyio<5.0,>=3.0->gradio) (3.10)\n",
            "Requirement already satisfied: sniffio>=1.1 in /usr/local/lib/python3.11/dist-packages (from anyio<5.0,>=3.0->gradio) (1.3.1)\n",
            "Requirement already satisfied: certifi in /usr/local/lib/python3.11/dist-packages (from httpx<1.0,>=0.24.1->gradio) (2025.7.14)\n",
            "Requirement already satisfied: httpcore==1.* in /usr/local/lib/python3.11/dist-packages (from httpx<1.0,>=0.24.1->gradio) (1.0.9)\n",
            "Requirement already satisfied: h11>=0.16 in /usr/local/lib/python3.11/dist-packages (from httpcore==1.*->httpx<1.0,>=0.24.1->gradio) (0.16.0)\n",
            "Requirement already satisfied: filelock in /usr/local/lib/python3.11/dist-packages (from huggingface-hub>=0.28.1->gradio) (3.18.0)\n",
            "Requirement already satisfied: requests in /usr/local/lib/python3.11/dist-packages (from huggingface-hub>=0.28.1->gradio) (2.32.3)\n",
            "Requirement already satisfied: tqdm>=4.42.1 in /usr/local/lib/python3.11/dist-packages (from huggingface-hub>=0.28.1->gradio) (4.67.1)\n",
            "Requirement already satisfied: hf-xet<2.0.0,>=1.1.3 in /usr/local/lib/python3.11/dist-packages (from huggingface-hub>=0.28.1->gradio) (1.1.5)\n",
            "Requirement already satisfied: python-dateutil>=2.8.2 in /usr/local/lib/python3.11/dist-packages (from pandas<3.0,>=1.0->gradio) (2.9.0.post0)\n",
            "Requirement already satisfied: pytz>=2020.1 in /usr/local/lib/python3.11/dist-packages (from pandas<3.0,>=1.0->gradio) (2025.2)\n",
            "Requirement already satisfied: tzdata>=2022.7 in /usr/local/lib/python3.11/dist-packages (from pandas<3.0,>=1.0->gradio) (2025.2)\n",
            "Requirement already satisfied: annotated-types>=0.6.0 in /usr/local/lib/python3.11/dist-packages (from pydantic<2.12,>=2.0->gradio) (0.7.0)\n",
            "Requirement already satisfied: pydantic-core==2.33.2 in /usr/local/lib/python3.11/dist-packages (from pydantic<2.12,>=2.0->gradio) (2.33.2)\n",
            "Requirement already satisfied: typing-inspection>=0.4.0 in /usr/local/lib/python3.11/dist-packages (from pydantic<2.12,>=2.0->gradio) (0.4.1)\n",
            "Requirement already satisfied: click>=8.0.0 in /usr/local/lib/python3.11/dist-packages (from typer<1.0,>=0.12->gradio) (8.2.1)\n",
            "Requirement already satisfied: shellingham>=1.3.0 in /usr/local/lib/python3.11/dist-packages (from typer<1.0,>=0.12->gradio) (1.5.4)\n",
            "Requirement already satisfied: rich>=10.11.0 in /usr/local/lib/python3.11/dist-packages (from typer<1.0,>=0.12->gradio) (13.9.4)\n",
            "Requirement already satisfied: six>=1.5 in /usr/local/lib/python3.11/dist-packages (from python-dateutil>=2.8.2->pandas<3.0,>=1.0->gradio) (1.17.0)\n",
            "Requirement already satisfied: markdown-it-py>=2.2.0 in /usr/local/lib/python3.11/dist-packages (from rich>=10.11.0->typer<1.0,>=0.12->gradio) (3.0.0)\n",
            "Requirement already satisfied: pygments<3.0.0,>=2.13.0 in /usr/local/lib/python3.11/dist-packages (from rich>=10.11.0->typer<1.0,>=0.12->gradio) (2.19.2)\n",
            "Requirement already satisfied: charset-normalizer<4,>=2 in /usr/local/lib/python3.11/dist-packages (from requests->huggingface-hub>=0.28.1->gradio) (3.4.2)\n",
            "Requirement already satisfied: urllib3<3,>=1.21.1 in /usr/local/lib/python3.11/dist-packages (from requests->huggingface-hub>=0.28.1->gradio) (2.5.0)\n",
            "Requirement already satisfied: mdurl~=0.1 in /usr/local/lib/python3.11/dist-packages (from markdown-it-py>=2.2.0->rich>=10.11.0->typer<1.0,>=0.12->gradio) (0.1.2)\n",
            "Requirement already satisfied: asyncio in /usr/local/lib/python3.11/dist-packages (3.4.3)\n",
            "fatal: destination path 'rus-edge-tts-webui' already exists and is not an empty directory.\n"
          ]
        }
      ]
    }
  ]
}